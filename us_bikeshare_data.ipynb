{
 "cells": [
  {
   "cell_type": "code",
   "execution_count": null,
   "metadata": {},
   "outputs": [],
   "source": [
    "import os\n",
    "os.chdir('D:\\Programming\\Python\\Udacity_Python_Nanodegree\\Us_Bikeshare_Data')\n"
   ]
  },
  {
   "cell_type": "code",
   "execution_count": null,
   "metadata": {},
   "outputs": [],
   "source": [
    "import pandas as pd\n",
    "from datetime import datetime\n",
    "from datetime import timedelta\n",
    "import time"
   ]
  },
  {
   "cell_type": "code",
   "execution_count": 3,
   "metadata": {
    "collapsed": true
   },
   "outputs": [],
   "source": [
    "def get_city():\n",
    "    '''Ask the user to enter city and return filenames for that city is bike share data \n",
    "    Args:\n",
    "        none\n",
    "    return:\n",
    "        (str) filenames for bikeshare data...\n",
    "        \n",
    "        filenames:\n",
    "            chicago = 'chicago.csv'\n",
    "            new_york_city = 'new_york_city.csv'\n",
    "            washington = 'washington.csv'\n",
    "    \n",
    "    '''\n",
    "    \n",
    "    city = ''\n",
    "    while city.lower() not in ['chicago', 'new york', 'washington']:\n",
    "        print('\\nHello! Let\\'s explore some US bikeshare data!')\n",
    "        print('Would you like to see data for Chicago, New York, or Washington?\\n')       \n",
    "        city = str(input())\n",
    "        if city.lower() == 'chicago':\n",
    "            return 'chicago.csv'\n",
    "        elif city.lower() == 'new york':\n",
    "            return 'new_york_city.csv'\n",
    "        elif city.lower() == 'washington':\n",
    "            return 'washington.csv'\n",
    "        else:\n",
    "            print('Invalid Input!!\\nPlease Re-enter the city name\\n')\n"
   ]
  },
  {
   "cell_type": "code",
   "execution_count": 4,
   "metadata": {
    "collapsed": true
   },
   "outputs": [],
   "source": [
    "def get_time_period():\n",
    "    '''Asks the user for a time period and returns the specified filter.\n",
    "    Args:\n",
    "        none.\n",
    "    Returns:\n",
    "        (str) Time filter for the bikeshare data.\n",
    "    '''\n",
    "    time_period = ''\n",
    "    while time_period.lower() not in ['month', 'day', 'none']:\n",
    "        print('\\nWould you like to filter the data by month, day, or not at all? ')\n",
    "        print('Type \"none\" for no time filter.\\n')\n",
    "        time_period = str(input()).lower()\n",
    "        print(time_period)\n",
    "        if time_period.lower() not in ['month', 'day', 'none']:\n",
    "            print('Invalid Input!!\\nPlease Re-enter\\n')\n",
    "    return time_period"
   ]
  },
  {
   "cell_type": "code",
   "execution_count": 5,
   "metadata": {
    "collapsed": true
   },
   "outputs": [],
   "source": [
    "def get_month():\n",
    "    '''Asks the user for a month and returns that month.\n",
    "    Args:\n",
    "        none.\n",
    "    Returns:\n",
    "        (tuple) Lower limit, upper limit of month for the bikeshare data.\n",
    "    '''\n",
    "    month_input = ''\n",
    "    months_dict = {'january': 1, 'february': 2, 'march': 3, 'april': 4,\n",
    "                   'may': 5, 'june': 6}\n",
    "    while month_input.lower() not in months_dict.keys():\n",
    "        print('\\nWhich month? January, February, March, April, May, or June?\\n')\n",
    "        month_input = str(input())\n",
    "        if month_input.lower() not in months_dict.keys():\n",
    "            print('Invalid Entry!!!\\n Please re-enter in a month between January and June\\n')\n",
    "    month = months_dict[month_input.lower()]\n",
    "    return ('2017-{}'.format(month), '2017-{}'.format(month + 1))"
   ]
  },
  {
   "cell_type": "code",
   "execution_count": 6,
   "metadata": {
    "collapsed": true
   },
   "outputs": [],
   "source": [
    "def get_day():\n",
    "    '''Asks the user for a day and returns the day.\n",
    "    Args:\n",
    "        none.\n",
    "    Returns:\n",
    "        (tuple) Lower limit, upper limit of date for the bikeshare data.\n",
    "    '''\n",
    "    this_month = get_month()[0]\n",
    "    month = int(this_month[5:])\n",
    "    valid_date = False\n",
    "    while valid_date == False:    \n",
    "        is_int = False\n",
    "        print('\\nWhich day? Please type your response as an integer.')\n",
    "        print('example: 1 is Sunday')\n",
    "        day = input()\n",
    "        while is_int == False:\n",
    "            try:\n",
    "                day = int(day)\n",
    "                is_int = True\n",
    "            except ValueError:\n",
    "                print('Invalid Entry!!!\\n Please type your response as an integer.')\n",
    "                day = input('\\nWhich day? Please type your response as an integer.\\n')\n",
    "                print('example: 1 is Sunday')\n",
    "\n",
    "        try:\n",
    "            start_date = datetime(2017, month, day)\n",
    "            valid_date = True\n",
    "        except ValueError as e:\n",
    "            print(str(e).capitalize())\n",
    "    end_date = start_date + timedelta(days=1)\n",
    "    return (str(start_date), str(end_date))\n"
   ]
  },
  {
   "cell_type": "code",
   "execution_count": 7,
   "metadata": {
    "collapsed": true
   },
   "outputs": [],
   "source": [
    "def popular_month(df):\n",
    "    '''Finds and prints the most popular month for start time.\n",
    "    Args:\n",
    "        bikeshare dataframe\n",
    "    Returns:\n",
    "        none\n",
    "    '''\n",
    "    months = ['January', 'February', 'March', 'April', 'May', 'June']\n",
    "    index = int(df['start_time'].dt.month.mode())\n",
    "    most_pop_month = months[index - 1]\n",
    "    print('The most popular month is {}.'.format(most_pop_month))\n"
   ]
  },
  {
   "cell_type": "code",
   "execution_count": 8,
   "metadata": {
    "collapsed": true
   },
   "outputs": [],
   "source": [
    "def popular_day(df,time_period):\n",
    "    '''Finds and prints the most popular day of week (Monday, Tuesday, etc.) for start time.\n",
    "    Args:\n",
    "        bikeshare dataframe and time period variable\n",
    "    Returns:\n",
    "        most_pop_day\n",
    "    '''\n",
    "    days_of_week = ['Monday', 'Tuesday', 'Wednesday', 'Thursday', 'Friday', 'Saturday', 'Sunday']\n",
    "    index = int(df['start_time'].dt.dayofweek.mode())\n",
    "    most_pop_day = days_of_week[index]\n",
    "    print('The most popular day is {}.'.format(most_pop_day))\n",
    "   "
   ]
  },
  {
   "cell_type": "code",
   "execution_count": 9,
   "metadata": {
    "collapsed": true
   },
   "outputs": [],
   "source": [
    "def popular_hour(df):\n",
    "    '''Finds and prints the most popular hour of day for start time.\n",
    "    Args:\n",
    "        bikeshare dataframe\n",
    "    Returns:\n",
    "        none\n",
    "    '''\n",
    "    most_pop_hour = int(df['start_time'].dt.hour.mode())\n",
    "    if most_pop_hour == 0:\n",
    "        am_pm = 'am'\n",
    "        pop_hour_readable = 12\n",
    "    elif 1 <= most_pop_hour < 13:\n",
    "        am_pm = 'am'\n",
    "        pop_hour_readable = most_pop_hour\n",
    "    elif 13 <= most_pop_hour < 24:\n",
    "        am_pm = 'pm'\n",
    "        pop_hour_readable = most_pop_hour - 12\n",
    "    print('The most popular hour of day for start time is {}{}.'.format(pop_hour_readable, am_pm))\n"
   ]
  },
  {
   "cell_type": "code",
   "execution_count": 10,
   "metadata": {
    "collapsed": true
   },
   "outputs": [],
   "source": [
    "def trip_duration(df):\n",
    "    '''Finds and prints the total trip duration and average trip duration in\n",
    "       hours, minutes, and seconds.\n",
    "    Args:\n",
    "        bikeshare dataframe\n",
    "    Returns:\n",
    "        none\n",
    "    '''\n",
    "    total_duration = df['trip_duration'].sum()\n",
    "    minute, second = divmod(total_duration, 60)\n",
    "    hour, minute = divmod(minute, 60)\n",
    "    print('The total trip duration is {} hours, {} minutes and {} seconds.'.format(hour, minute, second))\n",
    "    average_duration = round(df['trip_duration'].mean())\n",
    "    m, s = divmod(average_duration, 60)\n",
    "    if m > 60:\n",
    "        h, m = divmod(m, 60)\n",
    "        print('The average trip duration is {} hours, {} minutes and {} seconds.'.format(h, m, s))\n",
    "    else:\n",
    "        print('The average trip duration is {} minutes and {} seconds.'.format(m, s))"
   ]
  },
  {
   "cell_type": "code",
   "execution_count": 11,
   "metadata": {
    "collapsed": true
   },
   "outputs": [],
   "source": [
    "\n",
    "def popular_stations(df):\n",
    "    '''Finds and prints the most popular start station and most popular end station.\n",
    "    Args:\n",
    "        bikeshare dataframe\n",
    "    Returns:\n",
    "        none\n",
    "    '''\n",
    "    pop_start = df['start_station'].mode().to_string(index = False)\n",
    "    pop_end = df['end_station'].mode().to_string(index = False)\n",
    "    print('The most popular start station is {}.'.format(pop_start))\n",
    "    print('The most popular end station is {}.'.format(pop_end))\n",
    "\n"
   ]
  },
  {
   "cell_type": "code",
   "execution_count": 12,
   "metadata": {
    "collapsed": true
   },
   "outputs": [],
   "source": [
    "def popular_trip(df):\n",
    "    '''Finds and prints the most popular trip.\n",
    "    Args:\n",
    "        bikeshare dataframe\n",
    "    Returns:\n",
    "        none\n",
    "    '''\n",
    "    most_pop_trip = df['journey'].mode().to_string(index = False)\n",
    "    # The 'journey' column is created in the statistics() function.\n",
    "    print('The most popular trip is {}.'.format(most_pop_trip))\n"
   ]
  },
  {
   "cell_type": "code",
   "execution_count": 13,
   "metadata": {
    "collapsed": true
   },
   "outputs": [],
   "source": [
    "\n",
    "def users(df):\n",
    "    '''Finds and prints the counts of each user type.\n",
    "    Args:\n",
    "        bikeshare dataframe\n",
    "    Returns:\n",
    "        none\n",
    "    '''\n",
    "    subs = df.query('user_type == \"Subscriber\"').user_type.count()\n",
    "    cust = df.query('user_type == \"Customer\"').user_type.count()\n",
    "    print('There are {} Subscribers and {} Customers.'.format(subs, cust))\n",
    "\n"
   ]
  },
  {
   "cell_type": "code",
   "execution_count": 14,
   "metadata": {
    "collapsed": true
   },
   "outputs": [],
   "source": [
    "def gender(df):\n",
    "    '''Finds and prints the counts of gender.\n",
    "    Args:\n",
    "        bikeshare dataframe\n",
    "    Returns:\n",
    "        none\n",
    "    '''\n",
    "    male_count = df.query('gender == \"Male\"').gender.count()\n",
    "    female_count = df.query('gender == \"Female\"').gender.count()\n",
    "    print('There are {} male users and {} female users.'.format(male_count, female_count))\n",
    "\n"
   ]
  },
  {
   "cell_type": "code",
   "execution_count": 15,
   "metadata": {
    "collapsed": true
   },
   "outputs": [],
   "source": [
    "def birth_years(df):\n",
    "    ''' Finds and prints the earliest (i.e. oldest user), most recent (i.e. \n",
    "        youngest user), and most popular birth years.\n",
    "    Args:\n",
    "        bikeshare dataframe\n",
    "    Returns:\n",
    "        none\n",
    "    '''\n",
    "    earliest = int(df['birth_year'].min())\n",
    "    latest = int(df['birth_year'].max())\n",
    "    mode = int(df['birth_year'].mode())\n",
    "    print('The oldest users are born in {}.\\nThe youngest users are born in {}.\\nThe most popular birth year is {}.'.format(earliest, latest, mode))\n",
    "\n"
   ]
  },
  {
   "cell_type": "code",
   "execution_count": null,
   "metadata": {
    "collapsed": true
   },
   "outputs": [],
   "source": [
    "def display_data(df):\n",
    "    '''Displays five lines of data if the user specifies that they would like to.\n",
    "    After displaying five lines, ask the user if they would like to see five more,\n",
    "    continuing asking until they say stop.\n",
    "    Args:\n",
    "        data frame\n",
    "    Returns:\n",
    "        none\n",
    "    '''\n",
    "    def is_valid(display):\n",
    "        if display.lower() in ['yes', 'no']:\n",
    "            return True\n",
    "        else:\n",
    "            return False\n",
    "    head = 0\n",
    "    tail = 5\n",
    "    valid_input = False\n",
    "    while valid_input == False:\n",
    "        print('\\nWould you like to view individual trip data? Yes or No')\n",
    "        display = input()\n",
    "        valid_input = is_valid(display)\n",
    "        if valid_input == True:\n",
    "            break\n",
    "        else:\n",
    "            print('Invalid Entry!!! Please re-enter \"Yes or No\"')\n",
    "    if display.lower() == 'yes':\n",
    "        # prints every column except the 'journey' column created in statistics()\n",
    "        print(df[df.columns[0:-1]].iloc[head:tail])\n",
    "        display_more = ''\n",
    "        while display_more.lower() != 'no':\n",
    "            valid_input_2 = False\n",
    "            while valid_input_2 == False:\n",
    "                print('\\nWould you like to view more individual trip data? \"Yes or No\"\\n')\n",
    "                display_more = input()\n",
    "                valid_input_2 = is_valid(display_more)\n",
    "                if valid_input_2 == True:\n",
    "                    break\n",
    "                else:\n",
    "                    print('Invalid Entry!!! Please re-enter \"Yes or No\"')\n",
    "            if display_more.lower() == 'yes':\n",
    "                head += 5\n",
    "                tail += 5\n",
    "                print(df[df.columns[0:-1]].iloc[head:tail])\n",
    "            elif display_more.lower() == 'no':\n",
    "                break\n"
   ]
  },
  {
   "cell_type": "code",
   "execution_count": null,
   "metadata": {},
   "outputs": [
    {
     "name": "stdout",
     "output_type": "stream",
     "text": [
      "\n",
      "Hello! Let's explore some US bikeshare data!\n",
      "Would you like to see data for Chicago, New York, or Washington?\n",
      "\n"
     ]
    }
   ],
   "source": [
    "def statistics():\n",
    "    '''Calculates and prints out the descriptive statistics about a city and\n",
    "    time period specified by the user via raw input.\n",
    "    Args:\n",
    "        none.\n",
    "    Returns:\n",
    "        none.\n",
    "    '''\n",
    "    # Filter by city (Chicago, New York, Washington)\n",
    "    city = get_city()\n",
    "    print('Loading data...')\n",
    "    df = pd.read_csv(city, parse_dates = ['Start Time', 'End Time'])\n",
    "    \n",
    "    # change all column names to lowercase letters and replace spaces with underscores\n",
    "    new_labels = []\n",
    "    for col in df.columns:\n",
    "        new_labels.append(col.replace(' ', '_').lower())\n",
    "    df.columns = new_labels\n",
    "    \n",
    "    # increases the column width so that the long strings in the 'journey'\n",
    "    # column can be displayed fully\n",
    "    pd.set_option('max_colwidth', 100)\n",
    "    \n",
    "    # creates a 'journey' column that concatenates 'start_station' with \n",
    "    # 'end_station' for the use popular_trip() function\n",
    "    df['journey'] = df['start_station'].str.cat(df['end_station'], sep=' to ')\n",
    "\n",
    "    # Filter by time period (month, day, none)\n",
    "    time_period = get_time_period()\n",
    "    if time_period == 'none':\n",
    "        df_filtered = df\n",
    "    elif time_period == 'month' or time_period == 'day':\n",
    "        if time_period == 'month':\n",
    "            filter_lower, filter_upper = get_month()\n",
    "        elif time_period == 'day':\n",
    "            filter_lower, filter_upper = get_day()\n",
    "        print('Filtering data...')\n",
    "        df_filtered = df[(df['start_time'] >= filter_lower) & (df['start_time'] < filter_upper)]\n",
    "    print('\\nCalculating the first statistic...')\n",
    "\n",
    "    if time_period == 'none':\n",
    "        start_time = time.time()\n",
    "        \n",
    "        # What is the most popular month for start time?\n",
    "        popular_month(df_filtered)\n",
    "        print(\"That took %s seconds.\" % (time.time() - start_time))\n",
    "        print(\"\\nCalculating the next statistic...\")\n",
    "    \n",
    "    if time_period == 'none' or time_period == 'month':\n",
    "        start_time = time.time()\n",
    "        #What is the most popular day of week (Monday, Tuesday, etc.) for start time?\n",
    "        popular_day(df_filtered,time_period)\n",
    "        print(\"That took %s seconds.\" % (time.time() - start_time))\n",
    "        print(\"\\nCalculating the next statistic...\") \n",
    "        \n",
    "    \n",
    "    # What is the most popular hour of day for start time?\n",
    "    start_time = time.time()\n",
    "    popular_hour(df_filtered)\n",
    "    print(\"That took %s seconds.\" % (time.time() - start_time))\n",
    "    print(\"\\nCalculating the next statistic...\")\n",
    "    start_time = time.time()\n",
    "\n",
    "    # What is the total trip duration and average trip duration?\n",
    "    trip_duration(df_filtered)\n",
    "    print(\"That took %s seconds.\" % (time.time() - start_time))\n",
    "    print(\"\\nCalculating the next statistic...\")\n",
    "    start_time = time.time()\n",
    "\n",
    "    # What is the most popular start station and most popular end station?\n",
    "    popular_stations(df_filtered)\n",
    "    print(\"That took %s seconds.\" % (time.time() - start_time))\n",
    "    print(\"\\nCalculating the next statistic...\")\n",
    "    start_time = time.time()\n",
    "\n",
    "    # What is the most popular trip?\n",
    "    popular_trip(df_filtered)\n",
    "    print(\"That took %s seconds.\" % (time.time() - start_time))\n",
    "    print(\"\\nCalculating the next statistic...\")\n",
    "    start_time = time.time()\n",
    "\n",
    "    # What are the counts of each user type?\n",
    "    users(df_filtered)\n",
    "    print(\"That took %s seconds.\" % (time.time() - start_time))\n",
    "    \n",
    "    if city == 'chicago.csv' or city == 'new_york_city.csv':\n",
    "        print(\"\\nCalculating the next statistic...\")\n",
    "        start_time = time.time()\n",
    "        \n",
    "        # What are the counts of gender?\n",
    "        gender(df_filtered)\n",
    "        print(\"That took %s seconds.\" % (time.time() - start_time))\n",
    "        print(\"\\nCalculating the next statistic...\")\n",
    "        start_time = time.time()\n",
    "\n",
    "        # What are the earliest (i.e. oldest user), most recent (i.e. youngest\n",
    "        # user), and most popular birth years?\n",
    "        birth_years(df_filtered)\n",
    "        print(\"That took %s seconds.\" % (time.time() - start_time))\n",
    "\n",
    "    # Display five lines of data at a time if user specifies that they would like to\n",
    "    display_data(df_filtered)\n",
    "\n",
    "    # Restart?\n",
    "    restart = input('\\nWould you like to restart? Type \\'yes\\' or \\'no\\'.\\n')\n",
    "    while restart.lower() not in ['yes', 'no']:\n",
    "        print(\"Invalid input. Please type 'yes' or 'no'.\")\n",
    "        restart = input('\\nWould you like to restart? Type \\'yes\\' or \\'no\\'.\\n')\n",
    "    if restart.lower() == 'yes':\n",
    "        statistics()\n",
    "\n",
    "\n",
    "if __name__ == \"__main__\":\n",
    "\tstatistics()\n",
    "    \n",
    "    \n",
    "    "
   ]
  },
  {
   "cell_type": "code",
   "execution_count": null,
   "metadata": {
    "collapsed": true
   },
   "outputs": [],
   "source": [
    "Chicago\n"
   ]
  },
  {
   "cell_type": "code",
   "execution_count": null,
   "metadata": {
    "collapsed": true
   },
   "outputs": [],
   "source": []
  },
  {
   "cell_type": "code",
   "execution_count": null,
   "metadata": {
    "collapsed": true
   },
   "outputs": [],
   "source": []
  },
  {
   "cell_type": "code",
   "execution_count": null,
   "metadata": {
    "collapsed": true
   },
   "outputs": [],
   "source": []
  }
 ],
 "metadata": {
  "kernelspec": {
   "display_name": "Python 3",
   "language": "python",
   "name": "python3"
  },
  "language_info": {
   "codemirror_mode": {
    "name": "ipython",
    "version": 3
   },
   "file_extension": ".py",
   "mimetype": "text/x-python",
   "name": "python",
   "nbconvert_exporter": "python",
   "pygments_lexer": "ipython3",
   "version": "3.6.1"
  }
 },
 "nbformat": 4,
 "nbformat_minor": 2
}
